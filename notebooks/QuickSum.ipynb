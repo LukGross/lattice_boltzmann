{
 "cells": [
  {
   "cell_type": "code",
   "execution_count": 1,
   "metadata": {},
   "outputs": [],
   "source": [
    "import jax\n",
    "\n",
    "jax.config.update(\"jax_enable_x64\", True)\n",
    "import jax.numpy as jnp\n",
    "import jax.random as jrn\n",
    "\n",
    "import opt_einsum as oe\n",
    "\n",
    "# import numpy as np\n",
    "from utils.jax_ops import *"
   ]
  },
  {
   "cell_type": "code",
   "execution_count": 2,
   "metadata": {},
   "outputs": [],
   "source": [
    "import numpy as np\n",
    "\n",
    "seed = np.random.randint(1e3, 1e4)\n",
    "\n",
    "key = jrn.key(seed)"
   ]
  },
  {
   "cell_type": "code",
   "execution_count": 3,
   "metadata": {},
   "outputs": [],
   "source": [
    "d = 4\n",
    "n = 13\n",
    "N_summands = 100\n",
    "chi = None\n",
    "\n",
    "summands = []\n",
    "for i in range(N_summands):\n",
    "    key, subkey = jrn.split(key)\n",
    "    summands = [jrn.uniform(subkey, (d,) * n)]\n",
    "\n",
    "\n",
    "key, subkey = jrn.split(key)\n",
    "candidate = jrn.uniform(subkey, (d,) * n)"
   ]
  },
  {
   "cell_type": "code",
   "execution_count": null,
   "metadata": {},
   "outputs": [],
   "source": [
    "mps_summands = []\n",
    "for summand in summands:\n",
    "    mps_summands += [MPS(summand, max_bond=chi)]\n",
    "\n",
    "mps_candidate = MPS(candidate, max_bond=chi)\n",
    "mps_candidate = canonicalize(mps_candidate, 0)"
   ]
  },
  {
   "cell_type": "code",
   "execution_count": null,
   "metadata": {},
   "outputs": [],
   "source": [
    "actual_sum = jnp.zeros((d,) * n)\n",
    "for summand in summands:\n",
    "    actual_sum += summand\n",
    "mps_sum = jnp.zeros((d,) * n)\n",
    "for summand in mps_summands:\n",
    "    mps_sum += contract_MPS(summand)"
   ]
  },
  {
   "cell_type": "code",
   "execution_count": null,
   "metadata": {},
   "outputs": [],
   "source": [
    "def inner(A_MPS, B_MPS):\n",
    "    ein_str = \"\"\n",
    "    offs = ord(\"a\")\n",
    "    for i in range(len(A_MPS)):\n",
    "        ein_str += chr(3 * i + offs)\n",
    "        ein_str += chr(3 * i + 1 + offs)\n",
    "        ein_str += chr(3 * i + 3 + offs)\n",
    "        ein_str += \",\"\n",
    "    for i in range(len(B_MPS)):\n",
    "        ein_str += chr(3 * i + 2 + offs)\n",
    "        ein_str += chr(3 * i + 1 + offs)\n",
    "        ein_str += chr(3 * i + 5 + offs)\n",
    "        ein_str += \",\"\n",
    "    return oe.contract(ein_str, *A_MPS, *B_MPS).squeeze()\n",
    "\n",
    "\n",
    "def inner_wo_center(A_MPS, B_MPS, site):\n",
    "    ein_str = \"\"\n",
    "    offs = ord(\"a\")\n",
    "    for i in range(site):\n",
    "        ein_str += chr(3 * i + offs)\n",
    "        ein_str += chr(3 * i + 1 + offs)\n",
    "        ein_str += chr(3 * i + 3 + offs)\n",
    "        ein_str += \",\"\n",
    "    for i in range(site + 1, len(A_MPS)):\n",
    "        ein_str += chr(3 * i + offs)\n",
    "        ein_str += chr(3 * i + 1 + offs)\n",
    "        ein_str += chr(3 * i + 3 + offs)\n",
    "        ein_str += \",\"\n",
    "    for i in range(len(B_MPS)):\n",
    "        ein_str += chr(3 * i + 2 + offs)\n",
    "        ein_str += chr(3 * i + 1 + offs)\n",
    "        ein_str += chr(3 * i + 5 + offs)\n",
    "        ein_str += \",\"\n",
    "    ein_str = ein_str[:-1]\n",
    "    return oe.contract(ein_str, *A_MPS[:site], *A_MPS[site + 1 :], *B_MPS).reshape(\n",
    "        A_MPS[site].shape\n",
    "    )"
   ]
  },
  {
   "cell_type": "code",
   "execution_count": null,
   "metadata": {},
   "outputs": [],
   "source": [
    "def slowsum(summands):\n",
    "    result = summands[0]\n",
    "    for summand in summands[1:]:\n",
    "        result = add_MPS_MPS(summand, result)\n",
    "        result = compress_MPS(result, max_bond=chi)\n",
    "    return result"
   ]
  },
  {
   "cell_type": "code",
   "execution_count": null,
   "metadata": {},
   "outputs": [],
   "source": [
    "def quicksum(candidate, summands, sweeps=1):\n",
    "\n",
    "    for i in range(sweeps):\n",
    "        for site in range(len(candidate) - 1):\n",
    "            update = jnp.zeros(candidate[site].shape)\n",
    "            for summand in summands:\n",
    "                update = inner_wo_center(candidate, summand, site)\n",
    "            candidate[site] = 0.5 * update\n",
    "            candidate = right_shift_canonical_center(candidate, site)\n",
    "\n",
    "        for site in range(len(candidate) - 1, 0, -1):\n",
    "            update = jnp.zeros(candidate[site].shape)\n",
    "            for summand in summands:\n",
    "                update = inner_wo_center(candidate, summand, site)\n",
    "            candidate[site] = 0.5 * update\n",
    "            candidate = left_shift_canonical_center(candidate, site)\n",
    "\n",
    "    candidate[0] = 2 * candidate[0]\n",
    "    return candidate"
   ]
  },
  {
   "cell_type": "code",
   "execution_count": null,
   "metadata": {},
   "outputs": [
    {
     "name": "stdout",
     "output_type": "stream",
     "text": [
      "CPU times: user 18.7 ms, sys: 3.26 ms, total: 21.9 ms\n",
      "Wall time: 17.3 ms\n",
      "0.0\n",
      "True\n"
     ]
    }
   ],
   "source": [
    "jitslow = jax.jit(slowsum)\n",
    "%time result = jitslow(mps_summands)[0].block_until_ready()\n",
    "result = jitslow(mps_summands)\n",
    "contr_res = contract_MPS(result)\n",
    "print(jnp.mean((contr_res-mps_sum)**2))\n",
    "print(jnp.allclose(mps_sum, contr_res))"
   ]
  },
  {
   "cell_type": "code",
   "execution_count": null,
   "metadata": {},
   "outputs": [
    {
     "name": "stdout",
     "output_type": "stream",
     "text": [
      "973 μs ± 15.4 μs per loop (mean ± std. dev. of 7 runs, 1,000 loops each)\n"
     ]
    }
   ],
   "source": [
    "%timeit res = jitslow(mps_summands)[0].block_until_ready()"
   ]
  },
  {
   "cell_type": "code",
   "execution_count": null,
   "metadata": {},
   "outputs": [
    {
     "data": {
      "text/plain": [
       "Array([[[-266.33335778,  100.48609932,  -20.43973416,   76.48708127],\n",
       "        [-266.67782865,  -33.99638226,  123.05040435,    6.21520889],\n",
       "        [-266.45059848,   31.61285099,  -29.48033044, -120.21301419],\n",
       "        [-266.65408238,  -97.95455472,  -73.18837856,   37.5104326 ]]],      dtype=float64)"
      ]
     },
     "execution_count": 11,
     "metadata": {},
     "output_type": "execute_result"
    }
   ],
   "source": [
    "jitslow(mps_summands)[0].block_until_ready()"
   ]
  },
  {
   "cell_type": "code",
   "execution_count": null,
   "metadata": {},
   "outputs": [
    {
     "name": "stdout",
     "output_type": "stream",
     "text": [
      "CPU times: user 3.24 s, sys: 126 ms, total: 3.36 s\n",
      "Wall time: 847 ms\n",
      "2.1830290798939257e-30\n",
      "True\n"
     ]
    }
   ],
   "source": [
    "jitquick = jax.jit(quicksum)\n",
    "%time result = jitquick(mps_candidate, mps_summands)[0].block_until_ready()\n",
    "result = jitquick(mps_candidate, mps_summands)\n",
    "contr_res = contract_MPS(result)\n",
    "print(jnp.mean((contr_res-mps_sum)**2))\n",
    "print(jnp.allclose(mps_sum, contr_res))"
   ]
  },
  {
   "cell_type": "code",
   "execution_count": null,
   "metadata": {},
   "outputs": [
    {
     "name": "stdout",
     "output_type": "stream",
     "text": [
      "433 ms ± 4.72 ms per loop (mean ± std. dev. of 7 runs, 1 loop each)\n"
     ]
    }
   ],
   "source": [
    "%timeit res = jitquick(mps_candidate, mps_summands)[0].block_until_ready()"
   ]
  },
  {
   "cell_type": "code",
   "execution_count": null,
   "metadata": {},
   "outputs": [
    {
     "data": {
      "text/plain": [
       "Array([[[-266.34269518,   96.86677591,   50.00556801,   66.9089648 ],\n",
       "        [-266.66665863,   20.77519605,   17.752829  , -124.87982464],\n",
       "        [-266.4381814 , -108.92955403,   57.68219208,   33.6654854 ],\n",
       "        [-266.6683209 ,   -8.77405794, -125.22886741,   24.32733139]]],      dtype=float64)"
      ]
     },
     "execution_count": 14,
     "metadata": {},
     "output_type": "execute_result"
    }
   ],
   "source": [
    "jitquick(mps_candidate, mps_summands)[0].block_until_ready()"
   ]
  }
 ],
 "metadata": {
  "kernelspec": {
   "display_name": ".venv",
   "language": "python",
   "name": "python3"
  },
  "language_info": {
   "codemirror_mode": {
    "name": "ipython",
    "version": 3
   },
   "file_extension": ".py",
   "mimetype": "text/x-python",
   "name": "python",
   "nbconvert_exporter": "python",
   "pygments_lexer": "ipython3",
   "version": "3.12.6"
  }
 },
 "nbformat": 4,
 "nbformat_minor": 2
}

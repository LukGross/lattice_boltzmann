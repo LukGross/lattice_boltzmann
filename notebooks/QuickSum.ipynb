{
 "cells": [
  {
   "cell_type": "code",
   "execution_count": 1,
   "metadata": {},
   "outputs": [],
   "source": [
    "import os\n",
    "\n",
    "os.environ[\"JAX_PLATFORM_NAME\"] = \"cpu\"\n",
    "\n",
    "import jax\n",
    "\n",
    "jax.config.update(\"jax_enable_x64\", True)\n",
    "import jax.numpy as jnp\n",
    "import jax.random as jrn\n",
    "\n",
    "import opt_einsum as oe\n",
    "\n",
    "from utils.jax_ops import *"
   ]
  },
  {
   "cell_type": "code",
   "execution_count": 2,
   "metadata": {},
   "outputs": [],
   "source": [
    "import numpy as np\n",
    "\n",
    "seed = np.random.randint(1e3, 1e4)\n",
    "\n",
    "key = jrn.key(seed)"
   ]
  },
  {
   "cell_type": "code",
   "execution_count": 3,
   "metadata": {},
   "outputs": [],
   "source": [
    "d = 4\n",
    "n = 10\n",
    "N_summands = 2\n",
    "chi = 32\n",
    "\n",
    "summands = []\n",
    "for i in range(N_summands):\n",
    "    key, subkey = jrn.split(key)\n",
    "    summands += [np.random.random((d,) * n)]\n",
    "\n",
    "\n",
    "key, subkey = jrn.split(key)\n",
    "candidate = np.random.random((d,) * n)"
   ]
  },
  {
   "cell_type": "code",
   "execution_count": 4,
   "metadata": {},
   "outputs": [],
   "source": [
    "mps_summands = []\n",
    "for summand in summands:\n",
    "    mps_summands += [MPS(summand, max_bond=chi)]\n",
    "\n",
    "mps_candidate = MPS(candidate, max_bond=chi)\n",
    "mps_candidate = canonicalize(mps_candidate, 0)"
   ]
  },
  {
   "cell_type": "code",
   "execution_count": 5,
   "metadata": {},
   "outputs": [],
   "source": [
    "actual_sum = jnp.zeros((d,) * n)\n",
    "for summand in summands:\n",
    "    actual_sum += summand\n",
    "mps_sum = jnp.zeros((d,) * n)\n",
    "for summand in mps_summands:\n",
    "    mps_sum += contract_MPS(summand)"
   ]
  },
  {
   "cell_type": "code",
   "execution_count": 6,
   "metadata": {},
   "outputs": [],
   "source": [
    "inner_ein_str = \"\"\n",
    "offs = ord(\"a\")\n",
    "for i in range(n):\n",
    "    inner_ein_str += chr(3 * i + offs)\n",
    "    inner_ein_str += chr(3 * i + 1 + offs)\n",
    "    inner_ein_str += chr(3 * i + 3 + offs)\n",
    "    inner_ein_str += \",\"\n",
    "for i in range(n):\n",
    "    inner_ein_str += chr(3 * i + 2 + offs)\n",
    "    inner_ein_str += chr(3 * i + 1 + offs)\n",
    "    inner_ein_str += chr(3 * i + 5 + offs)\n",
    "    inner_ein_str += \",\"\n",
    "inner_ein_str = inner_ein_str[:-1]\n",
    "\n",
    "\n",
    "def inner(A_MPS, B_MPS):\n",
    "    return oe.contract(inner_ein_str, *A_MPS, *B_MPS).squeeze()\n",
    "\n",
    "\n",
    "inner_wo_center_ein_strs = []\n",
    "for site in range(n):\n",
    "    ein_str = \"\"\n",
    "    offs = ord(\"a\")\n",
    "    for i in range(site):\n",
    "        ein_str += chr(3 * i + offs)\n",
    "        ein_str += chr(3 * i + 1 + offs)\n",
    "        ein_str += chr(3 * i + 3 + offs)\n",
    "        ein_str += \",\"\n",
    "    for i in range(site + 1, n):\n",
    "        ein_str += chr(3 * i + offs)\n",
    "        ein_str += chr(3 * i + 1 + offs)\n",
    "        ein_str += chr(3 * i + 3 + offs)\n",
    "        ein_str += \",\"\n",
    "    for i in range(n):\n",
    "        ein_str += chr(3 * i + 2 + offs)\n",
    "        ein_str += chr(3 * i + 1 + offs)\n",
    "        ein_str += chr(3 * i + 5 + offs)\n",
    "        ein_str += \",\"\n",
    "    ein_str = ein_str[:-1]\n",
    "    inner_wo_center_ein_strs += [ein_str]\n",
    "\n",
    "\n",
    "def inner_wo_center(A_MPS, B_MPS, site):\n",
    "    return oe.contract(\n",
    "        inner_wo_center_ein_strs[site], *A_MPS[:site], *A_MPS[site + 1 :], *B_MPS\n",
    "    ).reshape(A_MPS[site].shape)"
   ]
  },
  {
   "cell_type": "code",
   "execution_count": 7,
   "metadata": {},
   "outputs": [],
   "source": [
    "def slowsum(summands):\n",
    "    result = summands[0]\n",
    "    for summand in summands[1:]:\n",
    "        result = add_MPS_MPS(summand, result)\n",
    "        result = compress_MPS(result, max_bond=chi)\n",
    "    return result"
   ]
  },
  {
   "cell_type": "code",
   "execution_count": null,
   "metadata": {},
   "outputs": [],
   "source": [
    "def quicksum(candidate, summands, sweeps=1):\n",
    "    # candidate = canonicalize(candidate, 0)\n",
    "    for i in range(sweeps):\n",
    "        for site in range(len(candidate) - 1):\n",
    "            update = jnp.zeros(candidate[site].shape)\n",
    "            for summand in summands:\n",
    "                update += inner_wo_center(candidate, summand, site)\n",
    "            candidate[site] = 0.5 * update\n",
    "            candidate = right_shift_canonical_center(candidate, site)\n",
    "\n",
    "        for site in range(len(candidate) - 1, 0, -1):\n",
    "            update = jnp.zeros(candidate[site].shape)\n",
    "            for summand in summands:\n",
    "                update += inner_wo_center(candidate, summand, site)\n",
    "            candidate[site] = 0.5 * update\n",
    "            candidate = left_shift_canonical_center(candidate, site)\n",
    "    candidate[0] = 2 * candidate[0]\n",
    "    return candidate"
   ]
  },
  {
   "cell_type": "code",
   "execution_count": 12,
   "metadata": {},
   "outputs": [
    {
     "name": "stdout",
     "output_type": "stream",
     "text": [
      "CPU times: user 11.7 ms, sys: 2.67 ms, total: 14.4 ms\n",
      "Wall time: 11.6 ms\n",
      "4.25 ms ± 149 μs per loop (mean ± std. dev. of 7 runs, 100 loops each)\n",
      "0.002468249618651816\n",
      "False\n"
     ]
    }
   ],
   "source": [
    "jittest = jax.jit(slowsum)\n",
    "%time result = jax.block_until_ready(jittest(mps_summands))\n",
    "%timeit jax.block_until_ready(jittest(mps_summands))\n",
    "contr_res = contract_MPS(result)\n",
    "print(jnp.mean((mps_sum-contr_res)**2))\n",
    "print(jnp.allclose(mps_sum, contr_res))"
   ]
  },
  {
   "cell_type": "code",
   "execution_count": 13,
   "metadata": {},
   "outputs": [
    {
     "name": "stdout",
     "output_type": "stream",
     "text": [
      "CPU times: user 1.89 s, sys: 40.1 ms, total: 1.93 s\n",
      "Wall time: 529 ms\n",
      "1.74 ms ± 16.7 μs per loop (mean ± std. dev. of 7 runs, 1,000 loops each)\n",
      "0.00287149927189354\n",
      "False\n"
     ]
    }
   ],
   "source": [
    "jittest2 = jax.jit(quicksum, static_argnums=2)\n",
    "%time result = jax.block_until_ready(jittest2(mps_candidate, mps_summands))\n",
    "%timeit jax.block_until_ready(jittest2(mps_candidate, mps_summands))\n",
    "contr_res = contract_MPS(result)\n",
    "print(jnp.mean((mps_sum-contr_res)**2))\n",
    "print(jnp.allclose(mps_sum, contr_res))"
   ]
  },
  {
   "cell_type": "code",
   "execution_count": null,
   "metadata": {},
   "outputs": [],
   "source": []
  }
 ],
 "metadata": {
  "kernelspec": {
   "display_name": ".venv",
   "language": "python",
   "name": "python3"
  },
  "language_info": {
   "codemirror_mode": {
    "name": "ipython",
    "version": 3
   },
   "file_extension": ".py",
   "mimetype": "text/x-python",
   "name": "python",
   "nbconvert_exporter": "python",
   "pygments_lexer": "ipython3",
   "version": "3.12.6"
  }
 },
 "nbformat": 4,
 "nbformat_minor": 2
}

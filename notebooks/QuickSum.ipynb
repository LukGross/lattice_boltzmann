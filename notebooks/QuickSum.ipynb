{
 "cells": [
  {
   "cell_type": "code",
   "execution_count": 1,
   "metadata": {},
   "outputs": [],
   "source": [
    "import jax\n",
    "\n",
    "jax.config.update(\"jax_enable_x64\", True)\n",
    "import jax.numpy as jnp\n",
    "import jax.random as jrn\n",
    "\n",
    "import opt_einsum as oe\n",
    "\n",
    "# import numpy as np\n",
    "from utils.jax_ops import *"
   ]
  },
  {
   "cell_type": "code",
   "execution_count": 2,
   "metadata": {},
   "outputs": [],
   "source": [
    "import numpy as np\n",
    "\n",
    "seed = np.random.randint(1e3, 1e4)\n",
    "\n",
    "key = jrn.key(seed)\n",
    "key, subkey = jrn.split(key)"
   ]
  },
  {
   "cell_type": "code",
   "execution_count": 3,
   "metadata": {},
   "outputs": [],
   "source": [
    "n = 10\n",
    "key, subkey = jrn.split(key)\n",
    "A = jrn.uniform(subkey, (2,) * n)\n",
    "key, subkey = jrn.split(key)\n",
    "B = jrn.uniform(subkey, (2,) * n)\n",
    "key, subkey = jrn.split(key)\n",
    "C = jrn.uniform(subkey, (2,) * n)\n",
    "key, subkey = jrn.split(key)\n",
    "D = jrn.uniform(subkey, (2,) * n)"
   ]
  },
  {
   "cell_type": "code",
   "execution_count": 4,
   "metadata": {},
   "outputs": [],
   "source": [
    "mps_A = MPS(A)\n",
    "mps_B = MPS(B)\n",
    "mps_C = MPS(C)\n",
    "mps_D = MPS(D)"
   ]
  },
  {
   "cell_type": "code",
   "execution_count": 5,
   "metadata": {},
   "outputs": [],
   "source": [
    "mps_A = canonicalize(mps_A, 0)\n",
    "mps_B = canonicalize(mps_B, 0)\n",
    "mps_C = canonicalize(mps_C, 0)\n",
    "mps_D = canonicalize(mps_D, 0)\n",
    "contr_ApBpD = contract_MPS(mps_A) + contract_MPS(mps_B) + contract_MPS(mps_D)"
   ]
  },
  {
   "cell_type": "code",
   "execution_count": 6,
   "metadata": {},
   "outputs": [],
   "source": [
    "def inner(A_MPS, B_MPS):\n",
    "    ein_str = \"\"\n",
    "    offs = ord(\"a\")\n",
    "    for i in range(len(A_MPS)):\n",
    "        ein_str += chr(3 * i + offs)\n",
    "        ein_str += chr(3 * i + 1 + offs)\n",
    "        ein_str += chr(3 * i + 3 + offs)\n",
    "        ein_str += \",\"\n",
    "    for i in range(len(B_MPS)):\n",
    "        ein_str += chr(3 * i + 2 + offs)\n",
    "        ein_str += chr(3 * i + 1 + offs)\n",
    "        ein_str += chr(3 * i + 5 + offs)\n",
    "        ein_str += \",\"\n",
    "    return oe.contract(ein_str, *A_MPS, *B_MPS).squeeze()\n",
    "\n",
    "\n",
    "def inner_wo_center(A_MPS, B_MPS, site):\n",
    "    ein_str = \"\"\n",
    "    offs = ord(\"a\")\n",
    "    for i in range(site):\n",
    "        ein_str += chr(3 * i + offs)\n",
    "        ein_str += chr(3 * i + 1 + offs)\n",
    "        ein_str += chr(3 * i + 3 + offs)\n",
    "        ein_str += \",\"\n",
    "    for i in range(site + 1, len(A_MPS)):\n",
    "        ein_str += chr(3 * i + offs)\n",
    "        ein_str += chr(3 * i + 1 + offs)\n",
    "        ein_str += chr(3 * i + 3 + offs)\n",
    "        ein_str += \",\"\n",
    "    for i in range(len(B_MPS)):\n",
    "        ein_str += chr(3 * i + 2 + offs)\n",
    "        ein_str += chr(3 * i + 1 + offs)\n",
    "        ein_str += chr(3 * i + 5 + offs)\n",
    "        ein_str += \",\"\n",
    "    ein_str = ein_str[:-1]\n",
    "    return oe.contract(ein_str, *A_MPS[:site], *A_MPS[site + 1 :], *B_MPS).reshape(\n",
    "        A_MPS[site].shape\n",
    "    )"
   ]
  },
  {
   "cell_type": "code",
   "execution_count": 7,
   "metadata": {},
   "outputs": [
    {
     "name": "stdout",
     "output_type": "stream",
     "text": [
      "6.80091077577843e-30\n"
     ]
    }
   ],
   "source": [
    "for i in range(1):\n",
    "    for site in range(len(mps_C) - 1):\n",
    "        mps_C[site] = 0.5 * (\n",
    "            inner_wo_center(mps_C, mps_A, site)\n",
    "            + inner_wo_center(mps_C, mps_B, site)\n",
    "            + inner_wo_center(mps_C, mps_D, site)\n",
    "        )\n",
    "        mps_C = right_shift_canonical_center(mps_C, site)\n",
    "\n",
    "    for site in range(len(mps_C) - 1, 0, -1):\n",
    "        mps_C[site] = 0.5 * (\n",
    "            inner_wo_center(mps_C, mps_A, site)\n",
    "            + inner_wo_center(mps_C, mps_B, site)\n",
    "            + inner_wo_center(mps_C, mps_D, site)\n",
    "        )\n",
    "        mps_C = left_shift_canonical_center(mps_C, site)\n",
    "\n",
    "    contr_C = contract_MPS(mps_C)\n",
    "    print(jnp.mean((2 * contr_C - contr_ApBpD) ** 2))"
   ]
  },
  {
   "cell_type": "code",
   "execution_count": 8,
   "metadata": {},
   "outputs": [
    {
     "name": "stdout",
     "output_type": "stream",
     "text": [
      "True\n"
     ]
    }
   ],
   "source": [
    "print(jnp.allclose(contr_ApBpD, 2 * contr_C))"
   ]
  },
  {
   "cell_type": "code",
   "execution_count": null,
   "metadata": {},
   "outputs": [],
   "source": []
  }
 ],
 "metadata": {
  "kernelspec": {
   "display_name": ".venv",
   "language": "python",
   "name": "python3"
  },
  "language_info": {
   "codemirror_mode": {
    "name": "ipython",
    "version": 3
   },
   "file_extension": ".py",
   "mimetype": "text/x-python",
   "name": "python",
   "nbconvert_exporter": "python",
   "pygments_lexer": "ipython3",
   "version": "3.12.6"
  }
 },
 "nbformat": 4,
 "nbformat_minor": 2
}

{
 "cells": [
  {
   "cell_type": "code",
   "execution_count": 1,
   "metadata": {},
   "outputs": [],
   "source": [
    "import os\n",
    "\n",
    "os.environ[\"JAX_PLATFORM_NAME\"] = \"cpu\"\n",
    "\n",
    "import jax\n",
    "\n",
    "jax.config.update(\"jax_enable_x64\", True)\n",
    "import jax.numpy as jnp\n",
    "import jax.random as jrn\n",
    "\n",
    "import opt_einsum as oe\n",
    "\n",
    "from utils.jax_ops import *\n",
    "from utils.scale_ordering import *\n",
    "from utils.mpos import kron_delta"
   ]
  },
  {
   "cell_type": "code",
   "execution_count": 2,
   "metadata": {},
   "outputs": [],
   "source": [
    "from utils.temporally_decaying_jets import initial_fields"
   ]
  },
  {
   "cell_type": "code",
   "execution_count": 3,
   "metadata": {},
   "outputs": [],
   "source": [
    "import numpy as np\n",
    "\n",
    "seed = np.random.randint(1e3, 1e4)\n",
    "\n",
    "key = jrn.key(seed)"
   ]
  },
  {
   "cell_type": "code",
   "execution_count": null,
   "metadata": {},
   "outputs": [],
   "source": [
    "d = 4\n",
    "n = 11\n",
    "chi = 4 ** int(n / 2 - 1)\n",
    "\n",
    "key, subkey = jrn.split(key)\n",
    "rand = np.random.random((d,) * n)\n",
    "\n",
    "tdj = transform_tensor(initial_fields(n=n)[0])\n",
    "\n",
    "key, subkey = jrn.split(key)\n",
    "candidate = np.random.random((d,) * n)"
   ]
  },
  {
   "cell_type": "code",
   "execution_count": 5,
   "metadata": {},
   "outputs": [],
   "source": [
    "mps_tdj = MPS(tdj, max_bond=None)\n",
    "\n",
    "mps_rand = MPS(rand, max_bond=None)\n",
    "\n",
    "mps_candidate = MPS(candidate, max_bond=chi)\n",
    "mps_candidate = canonicalize(mps_candidate, 0)"
   ]
  },
  {
   "cell_type": "code",
   "execution_count": null,
   "metadata": {},
   "outputs": [
    {
     "name": "stdout",
     "output_type": "stream",
     "text": [
      "deg,ghj,jkm,mnp,pqs,stv,vwy,yz|,|},,cbf,fei,ihl,lko,onr,rqu,utx,xw{,{z~,~},\n"
     ]
    }
   ],
   "source": [
    "inner_ein_str = \"\"\n",
    "offs = ord(\"a\")\n",
    "for i in range(n):\n",
    "    inner_ein_str += chr(3 * i + offs)\n",
    "    inner_ein_str += chr(3 * i + 1 + offs)\n",
    "    inner_ein_str += chr(3 * i + 3 + offs)\n",
    "    inner_ein_str += \",\"\n",
    "for i in range(n):\n",
    "    inner_ein_str += chr(3 * i + 2 + offs)\n",
    "    inner_ein_str += chr(3 * i + 1 + offs)\n",
    "    inner_ein_str += chr(3 * i + 5 + offs)\n",
    "    inner_ein_str += \",\"\n",
    "inner_ein_str = inner_ein_str[:-1]\n",
    "\n",
    "\n",
    "def inner(A_MPS, B_MPS):\n",
    "    return oe.contract(inner_ein_str, *A_MPS, *B_MPS).squeeze()\n",
    "\n",
    "\n",
    "inner_wo_center_ein_strs = []\n",
    "for site in range(n):\n",
    "    ein_str = \"\"\n",
    "    offs = ord(\"a\")\n",
    "    for i in range(site):\n",
    "        ein_str += chr(3 * i + offs)\n",
    "        ein_str += chr(3 * i + 1 + offs)\n",
    "        ein_str += chr(3 * i + 3 + offs)\n",
    "        ein_str += \",\"\n",
    "    for i in range(site + 1, n):\n",
    "        ein_str += chr(3 * i + offs)\n",
    "        ein_str += chr(3 * i + 1 + offs)\n",
    "        ein_str += chr(3 * i + 3 + offs)\n",
    "        ein_str += \",\"\n",
    "    for i in range(n):\n",
    "        ein_str += chr(3 * i + 2 + offs)\n",
    "        ein_str += chr(3 * i + 1 + offs)\n",
    "        ein_str += chr(3 * i + 5 + offs)\n",
    "        ein_str += \",\"\n",
    "    ein_str = ein_str[:-1]\n",
    "    inner_wo_center_ein_strs += [ein_str]\n",
    "\n",
    "print(inner_wo_center_ein_strs[0])\n",
    "\n",
    "\n",
    "def inner_wo_center(A_MPS, B_MPS, site):\n",
    "    return oe.contract(\n",
    "        inner_wo_center_ein_strs[site], *A_MPS[:site], *A_MPS[site + 1 :], *B_MPS\n",
    "    ).reshape(A_MPS[site].shape)"
   ]
  },
  {
   "cell_type": "code",
   "execution_count": null,
   "metadata": {},
   "outputs": [
    {
     "name": "stdout",
     "output_type": "stream",
     "text": [
      "deg,ghj,jkm,mnp,pqs,stv,vwy,yz|,|},,behknqtwz}\n"
     ]
    }
   ],
   "source": [
    "inner_wo_center_tensor_ein_strs = []\n",
    "for site in range(n):\n",
    "    ein_str = \"\"\n",
    "    offs = ord(\"a\")\n",
    "    for i in range(site):\n",
    "        ein_str += chr(3 * i + offs)\n",
    "        ein_str += chr(3 * i + 1 + offs)\n",
    "        ein_str += chr(3 * i + 3 + offs)\n",
    "        ein_str += \",\"\n",
    "    for i in range(site + 1, n):\n",
    "        ein_str += chr(3 * i + offs)\n",
    "        ein_str += chr(3 * i + 1 + offs)\n",
    "        ein_str += chr(3 * i + 3 + offs)\n",
    "        ein_str += \",\"\n",
    "    for i in range(n):\n",
    "        ein_str += chr(3 * i + 1 + offs)\n",
    "    inner_wo_center_tensor_ein_strs += [ein_str]\n",
    "\n",
    "print(inner_wo_center_tensor_ein_strs[0])\n",
    "\n",
    "\n",
    "def inner_wo_center_tensor(MPS, tensor, site):\n",
    "    return oe.contract(\n",
    "        inner_wo_center_tensor_ein_strs[site], *MPS[:site], *MPS[site + 1 :], tensor\n",
    "    ).reshape(MPS[site].shape)"
   ]
  },
  {
   "cell_type": "code",
   "execution_count": 8,
   "metadata": {},
   "outputs": [],
   "source": [
    "def slowcomp(initial):\n",
    "    return compress_MPS(initial, max_bond=chi)"
   ]
  },
  {
   "cell_type": "code",
   "execution_count": 9,
   "metadata": {},
   "outputs": [],
   "source": [
    "def slowcomp_tens_to_MPS(initial):\n",
    "    return MPS(initial, max_bond=chi)"
   ]
  },
  {
   "cell_type": "code",
   "execution_count": 10,
   "metadata": {},
   "outputs": [],
   "source": [
    "def quickcomp(candidate, initial, sweeps=1):\n",
    "    # candidate = canonicalize(candidate, 0)\n",
    "    for i in range(sweeps):\n",
    "        for site in range(len(candidate) - 1):\n",
    "            update = inner_wo_center(candidate, initial, site)\n",
    "            candidate[site] = 0.5 * update\n",
    "            candidate = right_shift_canonical_center(candidate, site)\n",
    "\n",
    "        for site in range(len(candidate) - 1, 0, -1):\n",
    "            update = inner_wo_center(candidate, initial, site)\n",
    "            candidate[site] = 0.5 * update\n",
    "            candidate = left_shift_canonical_center(candidate, site)\n",
    "    candidate[0] = 2 * candidate[0]\n",
    "    return candidate"
   ]
  },
  {
   "cell_type": "code",
   "execution_count": 11,
   "metadata": {},
   "outputs": [],
   "source": [
    "def quickcomp_tens_to_MPS(candidate, initial, sweeps=1):\n",
    "    # candidate = canonicalize(candidate, 0)\n",
    "    for i in range(sweeps):\n",
    "        for site in range(len(candidate) - 1):\n",
    "            update = inner_wo_center_tensor(candidate, initial, site)\n",
    "            candidate[site] = 0.5 * update\n",
    "            candidate = right_shift_canonical_center(candidate, site)\n",
    "\n",
    "        for site in range(len(candidate) - 1, 0, -1):\n",
    "            update = inner_wo_center_tensor(candidate, initial, site)\n",
    "            candidate[site] = 0.5 * update\n",
    "            candidate = left_shift_canonical_center(candidate, site)\n",
    "    candidate[0] = 2 * candidate[0]\n",
    "    return candidate"
   ]
  },
  {
   "cell_type": "code",
   "execution_count": 12,
   "metadata": {},
   "outputs": [
    {
     "name": "stdout",
     "output_type": "stream",
     "text": [
      "CPU times: user 2.91 s, sys: 257 ms, total: 3.16 s\n",
      "Wall time: 1.38 s\n",
      "1.12 s ± 27.8 ms per loop (mean ± std. dev. of 7 runs, 1 loop each)\n",
      "0.061525267785417434\n",
      "False\n"
     ]
    }
   ],
   "source": [
    "jittest = jax.jit(slowcomp)\n",
    "%time result = jax.block_until_ready(jittest(mps_rand))\n",
    "%timeit jax.block_until_ready(jittest(mps_rand))\n",
    "contr_res = contract_MPS(result)\n",
    "print(jnp.mean((rand-contr_res)**2))\n",
    "print(jnp.allclose(rand, contr_res))"
   ]
  },
  {
   "cell_type": "code",
   "execution_count": 13,
   "metadata": {},
   "outputs": [
    {
     "name": "stdout",
     "output_type": "stream",
     "text": [
      "CPU times: user 4.09 s, sys: 196 ms, total: 4.29 s\n",
      "Wall time: 1.01 s\n",
      "587 ms ± 6.63 ms per loop (mean ± std. dev. of 7 runs, 1 loop each)\n",
      "0.06667507500788632\n",
      "False\n"
     ]
    }
   ],
   "source": [
    "jittest2 = jax.jit(quickcomp, static_argnums=2)\n",
    "%time result = jax.block_until_ready(jittest2(mps_candidate, mps_rand))\n",
    "%timeit jax.block_until_ready(jittest2(mps_candidate, mps_rand))\n",
    "contr_res = contract_MPS(result)\n",
    "print(jnp.mean((rand-contr_res)**2))\n",
    "print(jnp.allclose(rand, contr_res))"
   ]
  },
  {
   "cell_type": "code",
   "execution_count": 14,
   "metadata": {},
   "outputs": [
    {
     "name": "stdout",
     "output_type": "stream",
     "text": [
      "CPU times: user 2.16 s, sys: 212 ms, total: 2.37 s\n",
      "Wall time: 1.03 s\n",
      "1 s ± 13.6 ms per loop (mean ± std. dev. of 7 runs, 1 loop each)\n",
      "2.7172792331750996e-26\n",
      "True\n"
     ]
    }
   ],
   "source": [
    "jittest = jax.jit(slowcomp)\n",
    "%time result = jax.block_until_ready(jittest(mps_tdj))\n",
    "%timeit jax.block_until_ready(jittest(mps_tdj))\n",
    "contr_res = contract_MPS(result)\n",
    "print(jnp.mean((tdj-contr_res)**2))\n",
    "print(jnp.allclose(tdj, contr_res))"
   ]
  },
  {
   "cell_type": "code",
   "execution_count": 15,
   "metadata": {},
   "outputs": [
    {
     "name": "stdout",
     "output_type": "stream",
     "text": [
      "CPU times: user 2.84 s, sys: 164 ms, total: 3 s\n",
      "Wall time: 720 ms\n",
      "591 ms ± 3.27 ms per loop (mean ± std. dev. of 7 runs, 1 loop each)\n",
      "2.719038503442886e-26\n",
      "True\n"
     ]
    }
   ],
   "source": [
    "jittest2 = jax.jit(quickcomp, static_argnums=2)\n",
    "%time result = jax.block_until_ready(jittest2(mps_candidate, mps_tdj))\n",
    "%timeit jax.block_until_ready(jittest2(mps_candidate, mps_tdj))\n",
    "contr_res = contract_MPS(result)\n",
    "print(jnp.mean((tdj-contr_res)**2))\n",
    "print(jnp.allclose(tdj, contr_res))"
   ]
  },
  {
   "cell_type": "code",
   "execution_count": null,
   "metadata": {},
   "outputs": [
    {
     "name": "stdout",
     "output_type": "stream",
     "text": [
      "CPU times: user 3.11 s, sys: 256 ms, total: 3.37 s\n",
      "Wall time: 1.47 s\n",
      "1.36 s ± 22.2 ms per loop (mean ± std. dev. of 7 runs, 1 loop each)\n",
      "2.724469387572018e-26\n",
      "True\n"
     ]
    }
   ],
   "source": [
    "jittest = jax.jit(slowcomp_tens_to_MPS)\n",
    "%time result = jax.block_until_ready(jittest(tdj))\n",
    "%timeit jax.block_until_ready(jittest(tdj))\n",
    "contr_res = contract_MPS(result)\n",
    "print(jnp.mean((tdj-contr_res)**2))\n",
    "print(jnp.allclose(tdj, contr_res))"
   ]
  },
  {
   "cell_type": "code",
   "execution_count": 17,
   "metadata": {},
   "outputs": [
    {
     "name": "stdout",
     "output_type": "stream",
     "text": [
      "CPU times: user 2.82 s, sys: 177 ms, total: 3 s\n",
      "Wall time: 729 ms\n",
      "392 ms ± 44.3 ms per loop (mean ± std. dev. of 7 runs, 1 loop each)\n",
      "6.1304107473954675e-31\n",
      "True\n"
     ]
    }
   ],
   "source": [
    "jittest2 = jax.jit(quickcomp_tens_to_MPS, static_argnums=2)\n",
    "%time result = jax.block_until_ready(jittest2(mps_candidate, tdj))\n",
    "%timeit jax.block_until_ready(jittest2(mps_candidate, tdj))\n",
    "contr_res = contract_MPS(result)\n",
    "print(jnp.mean((tdj-contr_res)**2))\n",
    "print(jnp.allclose(tdj, contr_res))"
   ]
  }
 ],
 "metadata": {
  "kernelspec": {
   "display_name": ".venv",
   "language": "python",
   "name": "python3"
  },
  "language_info": {
   "codemirror_mode": {
    "name": "ipython",
    "version": 3
   },
   "file_extension": ".py",
   "mimetype": "text/x-python",
   "name": "python",
   "nbconvert_exporter": "python",
   "pygments_lexer": "ipython3",
   "version": "3.12.6"
  }
 },
 "nbformat": 4,
 "nbformat_minor": 2
}

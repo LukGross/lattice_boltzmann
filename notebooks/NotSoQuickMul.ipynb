{
 "cells": [
  {
   "cell_type": "code",
   "execution_count": 1,
   "metadata": {},
   "outputs": [],
   "source": [
    "import os\n",
    "\n",
    "os.environ[\"JAX_PLATFORM_NAME\"] = \"cpu\"\n",
    "\n",
    "import jax\n",
    "\n",
    "jax.config.update(\"jax_enable_x64\", True)\n",
    "import jax.numpy as jnp\n",
    "import jax.random as jrn\n",
    "\n",
    "import opt_einsum as oe\n",
    "\n",
    "from utils.jax_ops import *\n",
    "from utils.mpos import kron_delta"
   ]
  },
  {
   "cell_type": "code",
   "execution_count": 2,
   "metadata": {},
   "outputs": [],
   "source": [
    "import numpy as np\n",
    "\n",
    "seed = np.random.randint(1e3, 1e4)\n",
    "\n",
    "key = jrn.key(seed)"
   ]
  },
  {
   "cell_type": "code",
   "execution_count": 3,
   "metadata": {},
   "outputs": [],
   "source": [
    "d = 2\n",
    "n = 5\n",
    "N_factors = 2\n",
    "chi = None\n",
    "\n",
    "factors = []\n",
    "for i in range(N_factors):\n",
    "    key, subkey = jrn.split(key)\n",
    "    factors += [np.random.random((d,) * n)]\n",
    "\n",
    "\n",
    "key, subkey = jrn.split(key)\n",
    "candidate = np.random.random((d,) * n)\n",
    "kron = jnp.array(kron_delta(d))\n",
    "multi_kron = [jnp.array(kron_delta(d, rank=N_factors + 1))] * n"
   ]
  },
  {
   "cell_type": "code",
   "execution_count": null,
   "metadata": {},
   "outputs": [],
   "source": [
    "mps_factors = []\n",
    "for factor in factors:\n",
    "    mps_factors += [MPS(factor, max_bond=chi)]\n",
    "\n",
    "mps_candidate = MPS(candidate, max_bond=chi)\n",
    "mps_candidate = canonicalize(mps_candidate, 0)"
   ]
  },
  {
   "cell_type": "code",
   "execution_count": 5,
   "metadata": {},
   "outputs": [],
   "source": [
    "actual_product = jnp.ones((d,) * n)\n",
    "for factor in factors:\n",
    "    actual_product *= factor\n",
    "mps_product = jnp.ones((d,) * n)\n",
    "for factor in mps_factors:\n",
    "    mps_product *= contract_MPS(factor)"
   ]
  },
  {
   "cell_type": "code",
   "execution_count": 6,
   "metadata": {},
   "outputs": [],
   "source": [
    "inner_ein_str = \"\"\n",
    "offs = ord(\"a\")\n",
    "for i in range(n):\n",
    "    inner_ein_str += chr(3 * i + offs)\n",
    "    inner_ein_str += chr(3 * i + 1 + offs)\n",
    "    inner_ein_str += chr(3 * i + 3 + offs)\n",
    "    inner_ein_str += \",\"\n",
    "for i in range(n):\n",
    "    inner_ein_str += chr(3 * i + 2 + offs)\n",
    "    inner_ein_str += chr(3 * i + 1 + offs)\n",
    "    inner_ein_str += chr(3 * i + 5 + offs)\n",
    "    inner_ein_str += \",\"\n",
    "inner_ein_str = inner_ein_str[:-1]\n",
    "\n",
    "\n",
    "def inner(A_MPS, B_MPS):\n",
    "    return oe.contract(inner_ein_str, *A_MPS, *B_MPS).squeeze()\n",
    "\n",
    "\n",
    "inner_wo_center_ein_strs = []\n",
    "for site in range(n):\n",
    "    ein_str = \"\"\n",
    "    offs = ord(\"a\")\n",
    "    for i in range(site):\n",
    "        ein_str += chr(3 * i + offs)\n",
    "        ein_str += chr(3 * i + 1 + offs)\n",
    "        ein_str += chr(3 * (i + 1) + offs)\n",
    "        ein_str += \",\"\n",
    "    for i in range(site + 1, n):\n",
    "        ein_str += chr(3 * i + offs)\n",
    "        ein_str += chr(3 * i + 1 + offs)\n",
    "        ein_str += chr(3 * (i + 1) + offs)\n",
    "        ein_str += \",\"\n",
    "    for i in range(n):\n",
    "        ein_str += chr(3 * i + 2 + offs)\n",
    "        ein_str += chr(3 * i + 1 + offs)\n",
    "        ein_str += chr(3 * (i + 1) + 2 + offs)\n",
    "        ein_str += \",\"\n",
    "    ein_str = ein_str[:-1]\n",
    "    inner_wo_center_ein_strs += [ein_str]\n",
    "\n",
    "\n",
    "def inner_wo_center(A_MPS, B_MPS, site):\n",
    "    return oe.contract(\n",
    "        inner_wo_center_ein_strs[site], *A_MPS[:site], *A_MPS[site + 1 :], *B_MPS\n",
    "    ).reshape(A_MPS[site].shape)"
   ]
  },
  {
   "cell_type": "code",
   "execution_count": 7,
   "metadata": {},
   "outputs": [],
   "source": [
    "multiply_ein_strs = []\n",
    "for site in range(n):\n",
    "    ein_str = \"\"\n",
    "    offs = ord(\"a\")\n",
    "    multiplier = 2 * N_factors + 2\n",
    "    for i in range(site):\n",
    "        ein_str += chr(multiplier * i + offs)\n",
    "        ein_str += chr(multiplier * i + 1 + offs)\n",
    "        ein_str += chr(multiplier * (i + 1) + offs)\n",
    "        ein_str += \",\"\n",
    "    for i in range(site + 1, n):\n",
    "        ein_str += chr(multiplier * i + offs)\n",
    "        ein_str += chr(multiplier * i + 1 + offs)\n",
    "        ein_str += chr(multiplier * (i + 1) + offs)\n",
    "        ein_str += \",\"\n",
    "    for i in range(n):\n",
    "        ein_str += chr(multiplier * i + 1 + offs)\n",
    "        for j in range(N_factors):\n",
    "            ein_str += chr(multiplier * i + j + 2 + offs)\n",
    "        ein_str += \",\"\n",
    "    for j in range(N_factors):\n",
    "        for i in range(n):\n",
    "            ein_str += chr(multiplier * i + N_factors + j + 2 + offs)\n",
    "            ein_str += chr(multiplier * i + j + 2 + offs)\n",
    "            ein_str += chr(multiplier * (i + 1) + N_factors + j + 2 + offs)\n",
    "            ein_str += \",\"\n",
    "    ein_str = ein_str[:-1]\n",
    "    multiply_ein_strs += [ein_str]\n",
    "\n",
    "multiply_ein_strs[0]\n",
    "\n",
    "\n",
    "def local_multiply(A_MPS, mps_factors, site):\n",
    "    unpacked = []\n",
    "    for mps_factor in mps_factors:\n",
    "        unpacked += mps_factor\n",
    "    return oe.contract(\n",
    "        multiply_ein_strs[site],\n",
    "        *A_MPS[:site],\n",
    "        *A_MPS[site + 1 :],\n",
    "        *multi_kron,\n",
    "        *unpacked\n",
    "    ).reshape(A_MPS[site].shape)"
   ]
  },
  {
   "cell_type": "code",
   "execution_count": 8,
   "metadata": {},
   "outputs": [],
   "source": [
    "def slowmul(factors):\n",
    "    result = factors[0]\n",
    "    for factor in factors[1:]:\n",
    "        result = multiply_MPS_MPS(kron, factor, result)\n",
    "        result = compress_MPS(result, max_bond=chi)\n",
    "    return result"
   ]
  },
  {
   "cell_type": "code",
   "execution_count": null,
   "metadata": {},
   "outputs": [],
   "source": [
    "def quickmul(candidate, factors, sweeps=1):\n",
    "    # candidate = canonicalize(candidate, 0)\n",
    "    for i in range(sweeps):\n",
    "        for site in range(len(candidate) - 1):\n",
    "            candidate[site] = 0.5 * local_multiply(candidate, factors, site)\n",
    "            candidate = right_shift_canonical_center(candidate, site)\n",
    "        for site in range(len(candidate) - 1, 0, -1):\n",
    "            candidate[site] = 0.5 * local_multiply(candidate, factors, site)\n",
    "            candidate = left_shift_canonical_center(candidate, site)\n",
    "    candidate[0] = 2 * candidate[0]\n",
    "    return candidate"
   ]
  },
  {
   "cell_type": "code",
   "execution_count": 16,
   "metadata": {},
   "outputs": [
    {
     "name": "stdout",
     "output_type": "stream",
     "text": [
      "CPU times: user 1.08 ms, sys: 633 μs, total: 1.71 ms\n",
      "Wall time: 851 μs\n",
      "87.8 μs ± 1.11 μs per loop (mean ± std. dev. of 7 runs, 10,000 loops each)\n",
      "6.021439249234046e-32\n",
      "True\n"
     ]
    }
   ],
   "source": [
    "jittest = jax.jit(slowmul)\n",
    "%time result = jax.block_until_ready(jittest(mps_factors))\n",
    "%timeit jax.block_until_ready(jittest(mps_factors))\n",
    "contr_res = contract_MPS(result)\n",
    "print(jnp.mean((mps_product-contr_res)**2))\n",
    "print(jnp.allclose(mps_product, contr_res))"
   ]
  },
  {
   "cell_type": "code",
   "execution_count": 17,
   "metadata": {},
   "outputs": [
    {
     "name": "stdout",
     "output_type": "stream",
     "text": [
      "CPU times: user 816 ms, sys: 22.9 ms, total: 839 ms\n",
      "Wall time: 219 ms\n",
      "119 μs ± 1 μs per loop (mean ± std. dev. of 7 runs, 10,000 loops each)\n",
      "1.3797005241505248e-31\n",
      "True\n"
     ]
    }
   ],
   "source": [
    "jittest2 = jax.jit(quickmul, static_argnums=2)\n",
    "%time result = jax.block_until_ready(jittest2(mps_candidate, mps_factors))\n",
    "%timeit jax.block_until_ready(jittest2(mps_candidate, mps_factors))\n",
    "contr_res = contract_MPS(result)\n",
    "print(jnp.mean((mps_product-contr_res)**2))\n",
    "print(jnp.allclose(mps_product, contr_res))"
   ]
  },
  {
   "cell_type": "code",
   "execution_count": 12,
   "metadata": {},
   "outputs": [
    {
     "data": {
      "text/plain": [
       "Array(10.47348432, dtype=float64)"
      ]
     },
     "execution_count": 12,
     "metadata": {},
     "output_type": "execute_result"
    }
   ],
   "source": [
    "jnp.sum(mps_candidate[0] ** 2)"
   ]
  },
  {
   "cell_type": "code",
   "execution_count": 13,
   "metadata": {},
   "outputs": [
    {
     "data": {
      "text/plain": [
       "Array(10.47348432, dtype=float64)"
      ]
     },
     "execution_count": 13,
     "metadata": {},
     "output_type": "execute_result"
    }
   ],
   "source": [
    "inner(mps_candidate, mps_candidate)"
   ]
  },
  {
   "cell_type": "code",
   "execution_count": 14,
   "metadata": {},
   "outputs": [
    {
     "data": {
      "text/plain": [
       "Array([[[[ 0.50831514, -0.06394081],\n",
       "         [-0.06394081,  0.49168486]],\n",
       "\n",
       "        [[-0.06394081,  0.49168486],\n",
       "         [ 0.49168486,  0.06394081]]],\n",
       "\n",
       "\n",
       "       [[[-0.06394081,  0.49168486],\n",
       "         [ 0.49168486,  0.06394081]],\n",
       "\n",
       "        [[ 0.49168486,  0.06394081],\n",
       "         [ 0.06394081,  0.50831514]]]], dtype=float64)"
      ]
     },
     "execution_count": 14,
     "metadata": {},
     "output_type": "execute_result"
    }
   ],
   "source": [
    "oe.contract(\n",
    "    \"abc, dbc, ebc, fbc\",\n",
    "    mps_candidate[-1],\n",
    "    mps_candidate[-1],\n",
    "    mps_candidate[-1],\n",
    "    mps_candidate[-1],\n",
    ")"
   ]
  },
  {
   "cell_type": "code",
   "execution_count": null,
   "metadata": {},
   "outputs": [],
   "source": []
  }
 ],
 "metadata": {
  "kernelspec": {
   "display_name": ".venv",
   "language": "python",
   "name": "python3"
  },
  "language_info": {
   "codemirror_mode": {
    "name": "ipython",
    "version": 3
   },
   "file_extension": ".py",
   "mimetype": "text/x-python",
   "name": "python",
   "nbconvert_exporter": "python",
   "pygments_lexer": "ipython3",
   "version": "3.12.6"
  }
 },
 "nbformat": 4,
 "nbformat_minor": 2
}

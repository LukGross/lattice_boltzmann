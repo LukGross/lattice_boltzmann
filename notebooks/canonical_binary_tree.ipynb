{
 "cells": [
  {
   "cell_type": "code",
   "execution_count": null,
   "metadata": {},
   "outputs": [],
   "source": [
    "import numpy as np\n",
    "import jax\n",
    "\n",
    "jax.config.update(\"jax_enable_x64\", True)\n",
    "import jax.numpy as jnp\n",
    "from utils.jax_ops import truncated_svd\n",
    "\n",
    "n = 4\n",
    "vec_shape = (2**n,)\n",
    "tt_shape = (2, 3, 4, 5)\n",
    "A = jnp.array(np.random.random(tt_shape))"
   ]
  },
  {
   "cell_type": "code",
   "execution_count": null,
   "metadata": {},
   "outputs": [],
   "source": [
    "# (     ) - O\n",
    "#  | | |    |\n",
    "\n",
    "rest, s, leaf_11 = truncated_svd(A.reshape((np.prod(tt_shape[:3]), tt_shape[-1])))\n",
    "bond_dim_11 = len(s)\n",
    "rest = (rest @ jnp.diag(s)).reshape(tt_shape[:3] + (bond_dim_11,))"
   ]
  },
  {
   "cell_type": "code",
   "execution_count": null,
   "metadata": {},
   "outputs": [],
   "source": [
    "# (     ) - O\n",
    "#  | | |    |\n",
    "#      O\n",
    "#      |\n",
    "rest, s, leaf_12 = truncated_svd(\n",
    "    rest.transpose(0, 1, 3, 2).reshape(\n",
    "        np.prod(tt_shape[:2]) * tt_shape[-1], tt_shape[2]\n",
    "    )\n",
    ")\n",
    "bond_dim_12 = len(s)\n",
    "rest = (\n",
    "    (rest @ jnp.diag(s))\n",
    "    .reshape(tt_shape[:2] + (bond_dim_11,) + (bond_dim_12,))\n",
    "    .transpose(0, 1, 3, 2)\n",
    ")"
   ]
  },
  {
   "cell_type": "code",
   "execution_count": null,
   "metadata": {},
   "outputs": [],
   "source": [
    "# (   ) - O - O\n",
    "#  | |    |   |\n",
    "#         O\n",
    "#         |\n",
    "rest, s, branch_1 = truncated_svd(\n",
    "    rest.reshape(np.prod(tt_shape[:2]), bond_dim_12 * bond_dim_11)\n",
    ")\n",
    "bond_dim_1 = len(s)\n",
    "branch_1 = branch_1.reshape((bond_dim_1, bond_dim_12, bond_dim_11))\n",
    "rest = (rest @ jnp.diag(s)).reshape(tt_shape[:2] + (bond_dim_1,))"
   ]
  },
  {
   "cell_type": "code",
   "execution_count": null,
   "metadata": {},
   "outputs": [],
   "source": [
    "# (   ) - O - O - O\n",
    "#  | |        |   |\n",
    "#             O\n",
    "#             |\n",
    "rest, s, trunk = truncated_svd(rest.reshape(np.prod(tt_shape[:2]), bond_dim_1))\n",
    "bond_dim_2 = len(s)\n",
    "rest = (rest @ jnp.diag(s)).reshape(tt_shape[:2] + (bond_dim_2,))"
   ]
  },
  {
   "cell_type": "code",
   "execution_count": 6,
   "metadata": {},
   "outputs": [
    {
     "data": {
      "text/plain": [
       "(2, 3, 6)"
      ]
     },
     "execution_count": 6,
     "metadata": {},
     "output_type": "execute_result"
    }
   ],
   "source": [
    "rest.shape"
   ]
  },
  {
   "cell_type": "code",
   "execution_count": null,
   "metadata": {},
   "outputs": [],
   "source": [
    "# (   ) - O - O - O\n",
    "#  | |        |   |\n",
    "#    O        O\n",
    "#    |        |\n",
    "rest, s, leaf_21 = truncated_svd(\n",
    "    rest.transpose(0, 2, 1).reshape(tt_shape[0] * bond_dim_2, tt_shape[1])\n",
    ")\n",
    "bond_dim_21 = len(s)\n",
    "rest = (\n",
    "    (rest @ jnp.diag(s))\n",
    "    .reshape((tt_shape[0], bond_dim_2, bond_dim_21))\n",
    "    .transpose(0, 2, 1)\n",
    ")"
   ]
  },
  {
   "cell_type": "code",
   "execution_count": 8,
   "metadata": {},
   "outputs": [
    {
     "data": {
      "text/plain": [
       "(2, 3, 6)"
      ]
     },
     "execution_count": 8,
     "metadata": {},
     "output_type": "execute_result"
    }
   ],
   "source": [
    "rest.shape"
   ]
  },
  {
   "cell_type": "code",
   "execution_count": null,
   "metadata": {},
   "outputs": [],
   "source": [
    "# O - O - O - O - O\n",
    "# |   |       |   |\n",
    "#     O       O\n",
    "#     |       |\n",
    "leaf_22, s, branch_2 = truncated_svd(\n",
    "    rest.reshape(tt_shape[0], bond_dim_21 * bond_dim_2)\n",
    ")\n",
    "bond_dim_22 = len(s)\n",
    "branch_2 = branch_2.reshape(bond_dim_22, bond_dim_21, bond_dim_2)\n",
    "leaf_22 = (leaf_22 @ jnp.diag(s)).transpose()"
   ]
  },
  {
   "cell_type": "code",
   "execution_count": 10,
   "metadata": {},
   "outputs": [
    {
     "name": "stdout",
     "output_type": "stream",
     "text": [
      "(6, 6)\n",
      "(2, 3, 6) (6, 4, 5)\n",
      "(2, 2) (3, 3) (4, 4) (5, 5)\n"
     ]
    }
   ],
   "source": [
    "print(trunk.shape)\n",
    "print(branch_2.shape, branch_1.shape)\n",
    "print(\n",
    "    leaf_22.shape,\n",
    "    leaf_21.shape,\n",
    "    leaf_12.shape,\n",
    "    leaf_11.shape,\n",
    ")"
   ]
  },
  {
   "cell_type": "code",
   "execution_count": null,
   "metadata": {},
   "outputs": [],
   "source": [
    "def contract_tree(trunk, branch_2, branch_1, leaf_22, leaf_21, leaf_12, leaf_11):\n",
    "    return jnp.einsum(\n",
    "        \"ab, cda, bef, cg, dh, ei, fj\",\n",
    "        trunk,\n",
    "        branch_2,\n",
    "        branch_1,\n",
    "        leaf_22,\n",
    "        leaf_21,\n",
    "        leaf_12,\n",
    "        leaf_11,\n",
    "    )"
   ]
  },
  {
   "cell_type": "code",
   "execution_count": null,
   "metadata": {},
   "outputs": [],
   "source": [
    "A_contracted = contract_tree(\n",
    "    trunk, branch_2, branch_1, leaf_22, leaf_21, leaf_12, leaf_11\n",
    ")"
   ]
  },
  {
   "cell_type": "code",
   "execution_count": 13,
   "metadata": {},
   "outputs": [
    {
     "data": {
      "text/plain": [
       "Array(True, dtype=bool)"
      ]
     },
     "execution_count": 13,
     "metadata": {},
     "output_type": "execute_result"
    }
   ],
   "source": [
    "jnp.allclose(A, A_contracted)"
   ]
  },
  {
   "cell_type": "code",
   "execution_count": 14,
   "metadata": {},
   "outputs": [
    {
     "data": {
      "text/plain": [
       "(Array(40.42318013, dtype=float64), Array(40.42318013, dtype=float64))"
      ]
     },
     "execution_count": 14,
     "metadata": {},
     "output_type": "execute_result"
    }
   ],
   "source": [
    "A.flatten() @ A.flatten(), leaf_22.flatten() @ leaf_22.flatten()"
   ]
  },
  {
   "cell_type": "code",
   "execution_count": null,
   "metadata": {},
   "outputs": [],
   "source": []
  }
 ],
 "metadata": {
  "kernelspec": {
   "display_name": ".venv",
   "language": "python",
   "name": "python3"
  },
  "language_info": {
   "codemirror_mode": {
    "name": "ipython",
    "version": 3
   },
   "file_extension": ".py",
   "mimetype": "text/x-python",
   "name": "python",
   "nbconvert_exporter": "python",
   "pygments_lexer": "ipython3",
   "version": "3.9.19"
  }
 },
 "nbformat": 4,
 "nbformat_minor": 2
}
